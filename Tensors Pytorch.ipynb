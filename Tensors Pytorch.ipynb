{
 "cells": [
  {
   "cell_type": "markdown",
   "id": "ff72a884-af99-48f6-9e23-4d9f9d310813",
   "metadata": {},
   "source": [
    "## Tensor is a data structure used to store and manipulate data\n",
    "\n",
    "- Multidimensional array containing elements of single data type.\n",
    "- Tensors represents scalar, vectors, matrices and n-multidimensional arrays, derived from <italic>torch</italic>"
   ]
  },
  {
   "cell_type": "code",
   "execution_count": 1,
   "id": "ea32e6e5-38ab-44b7-adc5-979395838b51",
   "metadata": {},
   "outputs": [],
   "source": [
    "import torch"
   ]
  },
  {
   "cell_type": "code",
   "execution_count": 3,
   "id": "0919c205-36f4-49c6-b853-85855a392fbf",
   "metadata": {},
   "outputs": [
    {
     "name": "stdout",
     "output_type": "stream",
     "text": [
      "tensor([[1, 2, 3],\n",
      "        [4, 5, 6]])\n",
      "tensor([[ 7,  8,  9],\n",
      "        [10, 11, 12]])\n",
      "Adding tensor([[ 8, 10, 12],\n",
      "        [14, 16, 18]])\n"
     ]
    }
   ],
   "source": [
    "x = torch.tensor([[1, 2, 3], [4, 5, 6]]);\n",
    "y = torch.tensor([[7, 8, 9], [10, 11, 12]]);\n",
    "print(x)\n",
    "print(y)\n",
    "z = x + y\n",
    "print(\"Adding\", z)"
   ]
  },
  {
   "cell_type": "code",
   "execution_count": 4,
   "id": "c205593a",
   "metadata": {},
   "outputs": [
    {
     "name": "stdout",
     "output_type": "stream",
     "text": [
      "tensor([[ 7, 16, 27],\n",
      "        [40, 55, 72]])\n"
     ]
    }
   ],
   "source": [
    "z_mult = x * y\n",
    "print(z_mult)"
   ]
  },
  {
   "cell_type": "code",
   "execution_count": 5,
   "id": "21010301",
   "metadata": {},
   "outputs": [
    {
     "name": "stdout",
     "output_type": "stream",
     "text": [
      "tensor([[0.1429, 0.2500, 0.3333],\n",
      "        [0.4000, 0.4545, 0.5000]])\n"
     ]
    }
   ],
   "source": [
    "z_div = x / y;\n",
    "print(z_div)"
   ]
  },
  {
   "cell_type": "code",
   "execution_count": 6,
   "id": "06209f05",
   "metadata": {},
   "outputs": [
    {
     "name": "stdout",
     "output_type": "stream",
     "text": [
      "torch.Size([2, 3])\n"
     ]
    }
   ],
   "source": [
    "print(z.size())"
   ]
  },
  {
   "cell_type": "code",
   "execution_count": 8,
   "id": "c542f9fa",
   "metadata": {},
   "outputs": [
    {
     "data": {
      "text/plain": [
       "'cpu'"
      ]
     },
     "execution_count": 8,
     "metadata": {},
     "output_type": "execute_result"
    }
   ],
   "source": [
    "device = 'cuda' if torch.cuda.is_available() else 'cpu'\n",
    "device"
   ]
  },
  {
   "cell_type": "code",
   "execution_count": 9,
   "id": "dd0dcfb8",
   "metadata": {},
   "outputs": [
    {
     "name": "stdout",
     "output_type": "stream",
     "text": [
      "tensor([[ 8, 10, 12],\n",
      "        [14, 16, 18]])\n",
      "torch.Size([2, 3])\n",
      "cpu\n"
     ]
    }
   ],
   "source": [
    "x = torch.tensor([[1, 2, 3], [4, 5, 6]], device=device)\n",
    "y = torch.tensor([[7, 8, 9], [10, 11, 12]], device=device)\n",
    "\n",
    "z = x + y\n",
    "print(z)\n",
    "print(z.size())\n",
    "print(z.device)\n"
   ]
  },
  {
   "cell_type": "code",
   "execution_count": 10,
   "id": "057061c1",
   "metadata": {},
   "outputs": [],
   "source": [
    "import numpy\n",
    "\n"
   ]
  },
  {
   "cell_type": "code",
   "execution_count": null,
   "id": "50c027e4",
   "metadata": {},
   "outputs": [],
   "source": []
  }
 ],
 "metadata": {
  "kernelspec": {
   "display_name": "tensorflow",
   "language": "python",
   "name": "python3"
  },
  "language_info": {
   "codemirror_mode": {
    "name": "ipython",
    "version": 3
   },
   "file_extension": ".py",
   "mimetype": "text/x-python",
   "name": "python",
   "nbconvert_exporter": "python",
   "pygments_lexer": "ipython3",
   "version": "3.10.14"
  }
 },
 "nbformat": 4,
 "nbformat_minor": 5
}
