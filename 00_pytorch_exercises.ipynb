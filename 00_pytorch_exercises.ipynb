{
 "cells": [
  {
   "cell_type": "markdown",
   "metadata": {},
   "source": [
    "### Exercises\n",
    "\n",
    "https://www.learnpytorch.io/00_pytorch_fundamentals/#exercises"
   ]
  },
  {
   "cell_type": "code",
   "execution_count": 13,
   "metadata": {},
   "outputs": [
    {
     "data": {
      "text/plain": [
       "tensor([[0.8964, 0.4556, 0.6323, 0.3489, 0.4017, 0.0223, 0.1689],\n",
       "        [0.2939, 0.5185, 0.6977, 0.8000, 0.1610, 0.2823, 0.6816],\n",
       "        [0.9152, 0.3971, 0.8742, 0.4194, 0.5529, 0.9527, 0.0362],\n",
       "        [0.1852, 0.3734, 0.3051, 0.9320, 0.1759, 0.2698, 0.1507],\n",
       "        [0.0317, 0.2081, 0.9298, 0.7231, 0.7423, 0.5263, 0.2437],\n",
       "        [0.5846, 0.0332, 0.1387, 0.2422, 0.8155, 0.7932, 0.2783],\n",
       "        [0.4820, 0.8198, 0.9971, 0.6984, 0.5675, 0.8352, 0.2056]])"
      ]
     },
     "execution_count": 13,
     "metadata": {},
     "output_type": "execute_result"
    }
   ],
   "source": [
    "import torch\n",
    "# Create a random tensor with shape (7, 7).\n",
    "\n",
    "tensor1 = torch.rand(7, 7)\n",
    "tensor1"
   ]
  },
  {
   "cell_type": "code",
   "execution_count": 15,
   "metadata": {},
   "outputs": [
    {
     "data": {
      "text/plain": [
       "(tensor([[1.8249],\n",
       "         [2.3089],\n",
       "         [2.6509],\n",
       "         [1.5015],\n",
       "         [2.0858],\n",
       "         [2.0102],\n",
       "         [2.9746]]),\n",
       " torch.Size([7, 1]))"
      ]
     },
     "execution_count": 15,
     "metadata": {},
     "output_type": "execute_result"
    }
   ],
   "source": [
    "tensor2 = torch.rand(1, 7)\n",
    "tensor2 = tensor2.T\n",
    "\n",
    "# matrix mult\n",
    "matmulTensor = torch.matmul(tensor1, tensor2)\n",
    "matmulTensor, matmulTensor.shape"
   ]
  },
  {
   "cell_type": "code",
   "execution_count": 16,
   "metadata": {},
   "outputs": [
    {
     "data": {
      "text/plain": [
       "(tensor([[1.5985],\n",
       "         [1.1173],\n",
       "         [1.2741],\n",
       "         [1.6838],\n",
       "         [0.8279],\n",
       "         [1.0347],\n",
       "         [1.2498]]),\n",
       " torch.Size([7, 1]))"
      ]
     },
     "execution_count": 16,
     "metadata": {},
     "output_type": "execute_result"
    }
   ],
   "source": [
    "# Set the random seed to 0 and do exercises 2 & 3 over again.\n",
    "\n",
    "RANDOM_SEED = 0\n",
    "torch.manual_seed(RANDOM_SEED)\n",
    "tensorA = torch.rand(7, 7)\n",
    "\n",
    "torch.manual_seed(RANDOM_SEED)\n",
    "tensorB = torch.rand(1, 7).T\n",
    "\n",
    "tensorMatMul = torch.matmul(tensorA, tensorB)\n",
    "tensorMatMul, tensorMatMul.shape"
   ]
  },
  {
   "cell_type": "code",
   "execution_count": 19,
   "metadata": {},
   "outputs": [],
   "source": [
    "# Speaking of random seeds, we saw how to set it with torch.manual_seed()\n",
    "# but is there a GPU equivalent? \n",
    "# (hint: you'll need to look into the documentation for torch.cuda for this one). \n",
    "# If there is, set the GPU random seed to 1234.\n",
    "\n",
    "torch.cuda.manual_seed(1234)"
   ]
  },
  {
   "cell_type": "code",
   "execution_count": 22,
   "metadata": {},
   "outputs": [
    {
     "data": {
      "text/plain": [
       "(tensor([[0.0290, 0.4019, 0.2598],\n",
       "         [0.3666, 0.0583, 0.7006]], device='mps:0'),\n",
       " tensor([[0.0290, 0.4019, 0.2598],\n",
       "         [0.3666, 0.0583, 0.7006]], device='mps:0'))"
      ]
     },
     "execution_count": 22,
     "metadata": {},
     "output_type": "execute_result"
    }
   ],
   "source": [
    "device = 'mps'\n",
    "\n",
    "random_seed = 1234\n",
    "torch.manual_seed(random_seed)\n",
    "tensorC = torch.rand(2, 3).to(device)\n",
    "\n",
    "torch.manual_seed(random_seed)\n",
    "tensorD = torch.rand(2, 3).to(device)\n",
    "tensorC, tensorD"
   ]
  },
  {
   "cell_type": "code",
   "execution_count": 23,
   "metadata": {},
   "outputs": [
    {
     "data": {
      "text/plain": [
       "(tensor([[0.2299, 0.2161],\n",
       "         [0.2161, 0.6287]], device='mps:0'),\n",
       " torch.Size([2, 2]))"
      ]
     },
     "execution_count": 23,
     "metadata": {},
     "output_type": "execute_result"
    }
   ],
   "source": [
    "# Perform a matrix multiplication on the tensors you created in 6 (again, you may have to adjust the shapes of one of the tensors).\n",
    "\n",
    "tensorMatMul2 = torch.matmul(tensorC, tensorD.T)\n",
    "tensorMatMul2, tensorMatMul2.shape\n"
   ]
  },
  {
   "cell_type": "code",
   "execution_count": 24,
   "metadata": {},
   "outputs": [
    {
     "data": {
      "text/plain": [
       "tensor(0.6287, device='mps:0')"
      ]
     },
     "execution_count": 24,
     "metadata": {},
     "output_type": "execute_result"
    }
   ],
   "source": [
    "torch.max(tensorMatMul2)"
   ]
  },
  {
   "cell_type": "code",
   "execution_count": 32,
   "metadata": {},
   "outputs": [
    {
     "data": {
      "text/plain": [
       "tensor(0.2161, device='mps:0')"
      ]
     },
     "execution_count": 32,
     "metadata": {},
     "output_type": "execute_result"
    }
   ],
   "source": [
    "torch.min(tensorMatMul2)"
   ]
  },
  {
   "cell_type": "code",
   "execution_count": 33,
   "metadata": {},
   "outputs": [
    {
     "data": {
      "text/plain": [
       "(tensor(3, device='mps:0'), tensor(1, device='mps:0'))"
      ]
     },
     "execution_count": 33,
     "metadata": {},
     "output_type": "execute_result"
    }
   ],
   "source": [
    "in_max = torch.argmax(tensorMatMul2)\n",
    "in_min = torch.argmin(tensorMatMul2)\n",
    "\n",
    "in_max, in_min"
   ]
  },
  {
   "cell_type": "code",
   "execution_count": 36,
   "metadata": {},
   "outputs": [
    {
     "name": "stdout",
     "output_type": "stream",
     "text": [
      "tensor([[[[0.5349, 0.1988, 0.6592, 0.6569, 0.2328, 0.4251, 0.2071, 0.6297,\n",
      "           0.3653, 0.8513]]]]) torch.Size([1, 1, 1, 10])\n",
      "tensor([0.5349, 0.1988, 0.6592, 0.6569, 0.2328, 0.4251, 0.2071, 0.6297, 0.3653,\n",
      "        0.8513]) torch.Size([10])\n"
     ]
    }
   ],
   "source": [
    "torch.manual_seed(7)\n",
    "\n",
    "tensor3 = torch.rand(1, 1, 1, 10)\n",
    "tensor4 = tensor3.squeeze()\n",
    "print(tensor3, tensor3.shape)\n",
    "print(tensor4, tensor4.shape)"
   ]
  },
  {
   "cell_type": "code",
   "execution_count": null,
   "metadata": {},
   "outputs": [],
   "source": []
  }
 ],
 "metadata": {
  "kernelspec": {
   "display_name": "tensorflow",
   "language": "python",
   "name": "python3"
  },
  "language_info": {
   "codemirror_mode": {
    "name": "ipython",
    "version": 3
   },
   "file_extension": ".py",
   "mimetype": "text/x-python",
   "name": "python",
   "nbconvert_exporter": "python",
   "pygments_lexer": "ipython3",
   "version": "3.10.14"
  }
 },
 "nbformat": 4,
 "nbformat_minor": 2
}
